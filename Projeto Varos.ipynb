{
 "cells": [
  {
   "cell_type": "code",
   "execution_count": null,
   "id": "e05488c1",
   "metadata": {},
   "outputs": [],
   "source": [
    "!pip install pandas\n",
    "!pip install matplotlib\n",
    "!pip install numpy\n",
    "!pip install pandas-datareader\n",
    "!pip install yfinance\n",
    "\n",
    "import pandas as pd\n",
    "import matplotlib.pyplot as plt\n",
    "from datetime import datetime, timedelta\n",
    "import pandas_datareader.data as pdr\n",
    "import yfinance\n",
    "\n",
    "yfinance.pdr_override()\n",
    "\n",
    "#Analisando o Gráfico\n",
    "\n",
    "data_inicial = datetime.now() - timedelta(year=1)\n",
    "data_final = datetime.now()\n",
    "\n",
    "df_petr = pdr.get_data_yahoo(\"^PETR4\",data_inicial, data_final)\n",
    "display(df_petr)\n",
    "\n",
    "\n",
    "\n",
    "\n",
    "df_PETR4 = pdr.get_data_yahoo(\"PETR4.SA\", data_inicial, data_final)\n",
    "df_WEGE3 = pdr.get_data_yahoo(\"WEGE3.SA\", data_inicial, data_final)\n",
    "df_CEAB3 = pdr.get_data_yahoo(\"CEAB3.SA\", data_inicial, data_final)\n",
    "\n",
    "display(df_PETR4)\n",
    "\n",
    "df_cotacoes = pdr.get_data_yahpp([\"PETR4.SA\",\"WEGE3.SA\",\"CEAB3.SA\"], data_inicial, data_final) [Open, High, Low, Close]\n",
    "\n",
    "\n"
   ]
  }
 ],
 "metadata": {
  "kernelspec": {
   "display_name": "Python 3 (ipykernel)",
   "language": "python",
   "name": "python3"
  },
  "language_info": {
   "codemirror_mode": {
    "name": "ipython",
    "version": 3
   },
   "file_extension": ".py",
   "mimetype": "text/x-python",
   "name": "python",
   "nbconvert_exporter": "python",
   "pygments_lexer": "ipython3",
   "version": "3.11.5"
  }
 },
 "nbformat": 4,
 "nbformat_minor": 5
}
