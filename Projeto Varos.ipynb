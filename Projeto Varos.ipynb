
!pip install pandas
!pip install matplotlib
!pip install numpy
!pip install pandas-datareader
!pip install yfinance

import yfinance as yf
import dash
from dash import dcc, html
from dash.dependencies import Input, Output
import plotly.graph_objects as go

tickers = ['PETR4.SA', 'WEGE3.SA', 'CEAB3.SA']
dados = {ticker: yf.download(ticker, period="1y") for ticker in tickers}

app = dash.Dash(__name__)

app.layout = html.Div([
    html.Label('Selecione o Ticker:'),
    dcc.Dropdown(
        id='ticker-dropdown',
        options=[{'label': ticker, 'value': ticker} for ticker in tickers],
        value='PETR4.SA'
    ),
    dcc.Graph(id='candlestick-chart')
])


@app.callback(
    Output('candlestick-chart', 'figure'),
    [Input('ticker-dropdown', 'value')]
)
def update_chart(selected_ticker):
    fig = go.Figure(data=[go.Candlestick(
        x=dados[selected_ticker].index,
        open=dados[selected_ticker]['Open'],
        high=dados[selected_ticker]['High'],
        low=dados[selected_ticker]['Low'],
        close=dados[selected_ticker]['Close']
    )])

    fig.update_layout(
        title=f'Gráfico Candlestick - {selected_ticker}',
        xaxis_title='Date',
        yaxis_title='Price',
        showlegend=False,
        xaxis=dict(rangeslider=dict(visible=False))
    )

    return fig


if __name__ == '__main__':
    app.run_server(debug=True)

import requests
from bs4 import BeautifulSoup

def get_news(query):
    url = f"https://braziljournal.com/?s={query}"
    response = requests.get(url)

    if response.status_code == 200:
        soup = BeautifulSoup(response.text, 'html.parser')

        titles = soup.select(".boxarticle-infos-title")
        tags = soup.select(".boxarticle-infos-tag")
        
        

        for title, tag in zip(titles[:3], tags[:3]):
            news_title = title.get_text(strip=True)
            news_tag = tag.get_text(strip=True)
            print(f"{news_tag}")
            print(f"{news_title}\n")

    else:
        print("Falha ao obter a página")

get_news("Petrobras")
